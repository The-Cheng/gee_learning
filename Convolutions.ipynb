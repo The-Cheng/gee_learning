{
 "cells": [
  {
   "cell_type": "markdown",
   "metadata": {},
   "source": [
    "# Convolutions"
   ]
  },
  {
   "cell_type": "code",
   "execution_count": 2,
   "metadata": {
    "collapsed": true
   },
   "outputs": [],
   "source": [
    "import ee\n",
    "from ee import mapclient\n",
    "ee.Initialize()"
   ]
  },
  {
   "cell_type": "markdown",
   "metadata": {},
   "source": [
    "## boxcar kernel"
   ]
  },
  {
   "cell_type": "code",
   "execution_count": null,
   "metadata": {
    "collapsed": true
   },
   "outputs": [],
   "source": [
    "# Load and display an image\n",
    "image = ee.Image('LANDSAT/LC08/C01/T1_TOA/LC08_044034_20140318')\n",
    "\n",
    "# Define a boxcar or low-pass kernel\n",
    "boxcar = ee.Kernel.square(radius=7, units=\"pixels\", normalize=True)\n",
    "\n",
    "# Smooth the image by convolving with boxcar kernel\n",
    "smooth = image.convolve(boxcar)\n",
    "mapclient.centerMap(-122.1651, 37.5128, 9)\n",
    "mapclient.addToMap(smooth, {'bands': ['B5', 'B4', 'B3'],'max': 0.5}, \"smoothed\")"
   ]
  },
  {
   "cell_type": "markdown",
   "metadata": {},
   "source": [
    "## edge-dectection kernel"
   ]
  },
  {
   "cell_type": "code",
   "execution_count": null,
   "metadata": {
    "collapsed": true
   },
   "outputs": [],
   "source": [
    "# Define a Laplacian, or edge-dectection kernel\n",
    "laplacian = ee.Kernel.laplacian8(normalize=False)\n",
    "\n",
    "# Apply the edge-detection kernel\n",
    "edgy = image.convolve(laplacian)\n",
    "vizParams = {'bands': ['B5', 'B4', 'B3'],\n",
    "             'max': 0.5,\n",
    "             'format': 'png'}\n",
    "mapclient.centerMap(-122.1651, 37.5128, 9)\n",
    "mapclient.addToMap(edgy, vizParams, 'edges')"
   ]
  },
  {
   "cell_type": "markdown",
   "metadata": {},
   "source": [
    "## Create a kernel"
   ]
  },
  {
   "cell_type": "code",
   "execution_count": 3,
   "metadata": {
    "collapsed": false
   },
   "outputs": [
    {
     "name": "stdout",
     "output_type": "stream",
     "text": [
      "{u'center': [4, 4],\n",
      " u'height': 9,\n",
      " u'type': u'Kernel.fixed',\n",
      " u'weights': u'\\n  [1.0, 1.0, 1.0, 1.0, 1.0, 1.0, 1.0, 1.0, 1.0]\\n  [1.0, 1.0, 1.0, 1.0, 1.0, 1.0, 1.0, 1.0, 1.0]\\n  [1.0, 1.0, 1.0, 1.0, 1.0, 1.0, 1.0, 1.0, 1.0]\\n  [1.0, 1.0, 1.0, 1.0, 1.0, 1.0, 1.0, 1.0, 1.0]\\n  [1.0, 1.0, 1.0, 1.0, 0.0, 1.0, 1.0, 1.0, 1.0]\\n  [1.0, 1.0, 1.0, 1.0, 1.0, 1.0, 1.0, 1.0, 1.0]\\n  [1.0, 1.0, 1.0, 1.0, 1.0, 1.0, 1.0, 1.0, 1.0]\\n  [1.0, 1.0, 1.0, 1.0, 1.0, 1.0, 1.0, 1.0, 1.0]\\n  [1.0, 1.0, 1.0, 1.0, 1.0, 1.0, 1.0, 1.0, 1.0]',\n",
      " u'width': 9,\n",
      " u'x': 4,\n",
      " u'y': 4}\n"
     ]
    }
   ],
   "source": [
    "from pprint import pprint\n",
    "# Create a list of weights for a 9x9 kernel\n",
    "list1 = [1 for i in range(9)]\n",
    "# The center of the kernel is zero\n",
    "centerList = [1 for i in range(4)] + [0] + [1 for i in range(4)]\n",
    "# Assemble a list of lists: the 9x9 kernel weights as a 2-D matrix\n",
    "lists = [list1 for i in range(4)] + [centerList] + [list1 for i in range(4)]\n",
    "# Create the kernel from the weights\n",
    "kernel = ee.Kernel.fixed(width=9,\n",
    "                         height=9,\n",
    "                         weights=lists,\n",
    "                         x=-4,\n",
    "                         y=-4,\n",
    "                         normalize=False)\n",
    "pprint(kernel.getInfo())"
   ]
  }
 ],
 "metadata": {
  "kernelspec": {
   "display_name": "Python 2",
   "language": "python",
   "name": "python2"
  },
  "language_info": {
   "codemirror_mode": {
    "name": "ipython",
    "version": 2
   },
   "file_extension": ".py",
   "mimetype": "text/x-python",
   "name": "python",
   "nbconvert_exporter": "python",
   "pygments_lexer": "ipython2",
   "version": "2.7.11"
  }
 },
 "nbformat": 4,
 "nbformat_minor": 2
}
