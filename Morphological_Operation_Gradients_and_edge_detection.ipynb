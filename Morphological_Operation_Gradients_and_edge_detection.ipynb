{
 "cells": [
  {
   "cell_type": "markdown",
   "metadata": {},
   "source": [
    "# Morphological operations, gradients and edge detecting"
   ]
  },
  {
   "cell_type": "markdown",
   "metadata": {},
   "source": [
    "## Morphological operations"
   ]
  },
  {
   "cell_type": "code",
   "execution_count": null,
   "metadata": {
    "collapsed": true
   },
   "outputs": [],
   "source": [
    "import ee\n",
    "from ee import mapclient\n",
    "\n",
    "ee.Initialize()"
   ]
  },
  {
   "cell_type": "code",
   "execution_count": null,
   "metadata": {
    "collapsed": true
   },
   "outputs": [],
   "source": [
    "## Morphological Operations ##\n",
    "\n",
    "# Load a landsat 8 image, select NIR band, threshold\n",
    "image = ee.Image('LANDSAT/LC08/C01/T1_TOA/LC08_044034_20140318')\\\n",
    "    .select(4).gt(0.2)\n",
    "\n",
    "# Define a kernel\n",
    "kernel = ee.Kernel.circle(radius=1)\n",
    "\n",
    "# Perform an erosion followed by a dilation, display\n",
    "opened = image\\\n",
    "        .focal_min(kernel=kernel, iterations=2)\\\n",
    "        .focal_max(kernel=kernel, iterations=2)\n",
    "\n",
    "mapclient.centerMap(-122.1899, 37.5010, 13)\n",
    "mapclient.addToMap(opened, {}, 'opened')"
   ]
  },
  {
   "cell_type": "markdown",
   "metadata": {},
   "source": [
    "## Gradients"
   ]
  },
  {
   "cell_type": "code",
   "execution_count": null,
   "metadata": {
    "collapsed": true
   },
   "outputs": [],
   "source": [
    "image = ee.Image('LANDSAT/LC08/C01/T1/LC08_044034_20140318').select('B8')\n",
    "\n",
    "# Compute the image gradient in the X and Y direction\n",
    "xyGrad = image.gradient()\n",
    "\n",
    "# Compute the magnitude of the gradient\n",
    "gradient = xyGrad.select('x').pow(2.0)\\\n",
    "    .add(xyGrad.select('y').pow(2.0)).sqrt()\n",
    "\n",
    "# Compute the direction of the gradient\n",
    "direction = xyGrad.select('y').atan2(xyGrad.select('x'))\n",
    "\n",
    "# Display the results\n",
    "\n",
    "mapclient.centerMap(-122.054, 37.7295, 10)\n",
    "mapclient.addToMap(direction, {'min': -2, 'max': 2, 'format': 'png'}, 'direction')\n",
    "mapclient.addToMap(gradient, {'min': -7, 'max': 7, 'format': 'png'}, 'gradient')\n"
   ]
  },
  {
   "cell_type": "markdown",
   "metadata": {},
   "source": [
    "## Edge detection"
   ]
  },
  {
   "cell_type": "markdown",
   "metadata": {},
   "source": [
    "### Canny edge detection"
   ]
  },
  {
   "cell_type": "code",
   "execution_count": null,
   "metadata": {
    "collapsed": true
   },
   "outputs": [],
   "source": [
    "image = ee.Image('LANDSAT/LC08/C01/T1/LC08_044034_20140318').select('B8')\n",
    "\n",
    "# Perform Canny edge detection and display the result.\n",
    "canny = ee.Algorithms.CannyEdgeDetector(image, threshold=10, sigma=1)\n",
    "mapclient.centerMap(-122.054, 37.7295, 10)\n",
    "mapclient.addToMap(canny, {}, 'canny')"
   ]
  },
  {
   "cell_type": "markdown",
   "metadata": {},
   "source": [
    "### Hough transform"
   ]
  },
  {
   "cell_type": "code",
   "execution_count": null,
   "metadata": {
    "collapsed": true
   },
   "outputs": [],
   "source": [
    "hough = ee.Algorithms.HoughTransform(image=canny,\n",
    "                                     inputThreshold=100,\n",
    "                                     lineThreshold=100,\n",
    "                                     smooth=True)\n",
    "\n",
    "mapclient.centerMap(-122.054, 37.7295, 10)\n",
    "mapclient.addToMap(hough, {}, 'hough')"
   ]
  },
  {
   "cell_type": "markdown",
   "metadata": {},
   "source": [
    "### Zero crossing"
   ]
  },
  {
   "cell_type": "code",
   "execution_count": null,
   "metadata": {
    "collapsed": true
   },
   "outputs": [],
   "source": [
    "# Define a \"fat\" Gaussian kernel\n",
    "fat = ee.Kernel.gaussian(radius=3,\n",
    "                         sigma=3,\n",
    "                         units=\"pixels\",\n",
    "                         normalize=True,\n",
    "                         magnitude=-1)\n",
    "\n",
    "# Define a \"skinny\" Gaussian kernel\n",
    "skinny = ee.Kernel.gaussian(radius=3,\n",
    "                            sigma=1,\n",
    "                            units=\"pixels\",\n",
    "                            normalize=True)\n",
    "\n",
    "# Compute a difference-of-Gaussian (DOG) kernel\n",
    "dog = fat.add(skinny)\n",
    "\n",
    "# Compute the zero corossing of second derivative, display\n",
    "\n",
    "zeroXings = image.convolve(dog).zeroCrossing()\n",
    "mapclient.centerMap(-122.054, 37.7295, 10)\n",
    "mapclient.addToMap(zeroXings.updateMask(zeroXings),\n",
    "                   {'palette': 'FF0000'},\n",
    "                   'zero crossings')"
   ]
  }
 ],
 "metadata": {
  "kernelspec": {
   "display_name": "Python 2",
   "language": "python",
   "name": "python2"
  },
  "language_info": {
   "codemirror_mode": {
    "name": "ipython",
    "version": 2
   },
   "file_extension": ".py",
   "mimetype": "text/x-python",
   "name": "python",
   "nbconvert_exporter": "python",
   "pygments_lexer": "ipython2",
   "version": "2.7.11"
  }
 },
 "nbformat": 4,
 "nbformat_minor": 2
}
