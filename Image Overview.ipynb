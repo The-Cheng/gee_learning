{
 "cells": [
  {
   "cell_type": "markdown",
   "metadata": {
    "deletable": true,
    "editable": true
   },
   "source": [
    "# Image Overview\n",
    "Image object composed of one or more bands and each bands has its own name, data type, scale, mask and projection.Each image has metadata stored as a set of properties\n",
    "You can create a Image object from constants, lists or other suitable earth engine objects."
   ]
  },
  {
   "cell_type": "code",
   "execution_count": 1,
   "metadata": {
    "collapsed": false,
    "deletable": true,
    "editable": true
   },
   "outputs": [
    {
     "name": "stdout",
     "output_type": "stream",
     "text": [
      "Google earth engine initialize successful\n"
     ]
    }
   ],
   "source": [
    "# Initialize google earth engine\n",
    "import ee\n",
    "try:\n",
    "    ee.Initialize()\n",
    "    print(\"Google earth engine initialize successful\")\n",
    "except ee.EEException:\n",
    "    raise RuntimeError(\"Google earth engine initialize failed\")"
   ]
  },
  {
   "cell_type": "code",
   "execution_count": 4,
   "metadata": {
    "collapsed": true
   },
   "outputs": [],
   "source": [
    "# import pprint to print dict object clearly\n",
    "import pprint"
   ]
  },
  {
   "cell_type": "code",
   "execution_count": 5,
   "metadata": {
    "collapsed": false,
    "deletable": true,
    "editable": true
   },
   "outputs": [
    {
     "name": "stdout",
     "output_type": "stream",
     "text": [
      "ee.Image({\n",
      "  \"type\": \"Invocation\", \n",
      "  \"arguments\": {\n",
      "    \"value\": 1\n",
      "  }, \n",
      "  \"functionName\": \"Image.constant\"\n",
      "})\n",
      "{u'bands': [{u'crs': u'EPSG:4326',\n",
      "             u'crs_transform': [1.0, 0.0, 0.0, 0.0, 1.0, 0.0],\n",
      "             u'data_type': {u'max': 1,\n",
      "                            u'min': 1,\n",
      "                            u'precision': u'int',\n",
      "                            u'type': u'PixelType'},\n",
      "             u'id': u'constant'}],\n",
      " u'type': u'Image'}\n"
     ]
    }
   ],
   "source": [
    "# create a image by constant\n",
    "image1 = ee.Image(1)\n",
    "# earthengine python api only construct a json query, the result of query will not execute\n",
    "print(image1)\n",
    "# using ee.Image.getInfo() to fetch the metadata of image\n",
    "pprint.pprint(image1.getInfo())"
   ]
  },
  {
   "cell_type": "code",
   "execution_count": 3,
   "metadata": {
    "collapsed": false,
    "deletable": true,
    "editable": true
   },
   "outputs": [
    {
     "name": "stdout",
     "output_type": "stream",
     "text": [
      "ee.Image({\n",
      "  \"type\": \"Invocation\", \n",
      "  \"arguments\": {\n",
      "    \"dstImg\": {\n",
      "      \"type\": \"Invocation\", \n",
      "      \"arguments\": {\n",
      "        \"value\": 1\n",
      "      }, \n",
      "      \"functionName\": \"Image.constant\"\n",
      "    }, \n",
      "    \"srcImg\": {\n",
      "      \"type\": \"Invocation\", \n",
      "      \"arguments\": {\n",
      "        \"value\": 2\n",
      "      }, \n",
      "      \"functionName\": \"Image.constant\"\n",
      "    }\n",
      "  }, \n",
      "  \"functionName\": \"Image.addBands\"\n",
      "})\n",
      "{u'bands': [{u'crs': u'EPSG:4326', u'crs_transform': [1.0, 0.0, 0.0, 0.0, 1.0, 0.0], u'id': u'constant', u'data_type': {u'max': 1, u'type': u'PixelType', u'precision': u'int', u'min': 1}}, {u'crs': u'EPSG:4326', u'crs_transform': [1.0, 0.0, 0.0, 0.0, 1.0, 0.0], u'id': u'constant_1', u'data_type': {u'max': 2, u'type': u'PixelType', u'precision': u'int', u'min': 2}}], u'type': u'Image'}\n"
     ]
    }
   ],
   "source": [
    "# Concatenate two images into one multi-band image.\n",
    "image2 = ee.Image(2)\n",
    "image3 = ee.Image.cat([image1, image2])\n",
    "print(image3)\n",
    "pprint.pprint(image3.getInfo())"
   ]
  },
  {
   "cell_type": "code",
   "execution_count": 7,
   "metadata": {
    "collapsed": false,
    "deletable": true,
    "editable": true
   },
   "outputs": [
    {
     "name": "stdout",
     "output_type": "stream",
     "text": [
      "ee.Image({\n",
      "  \"type\": \"Invocation\", \n",
      "  \"arguments\": {\n",
      "    \"dstImg\": {\n",
      "      \"type\": \"Invocation\", \n",
      "      \"arguments\": {\n",
      "        \"dstImg\": {\n",
      "          \"type\": \"Invocation\", \n",
      "          \"arguments\": {\n",
      "            \"value\": 1\n",
      "          }, \n",
      "          \"functionName\": \"Image.constant\"\n",
      "        }, \n",
      "        \"srcImg\": {\n",
      "          \"type\": \"Invocation\", \n",
      "          \"arguments\": {\n",
      "            \"value\": 2\n",
      "          }, \n",
      "          \"functionName\": \"Image.constant\"\n",
      "        }\n",
      "      }, \n",
      "      \"functionName\": \"Image.addBands\"\n",
      "    }, \n",
      "    \"srcImg\": {\n",
      "      \"type\": \"Invocation\", \n",
      "      \"arguments\": {\n",
      "        \"value\": 3\n",
      "      }, \n",
      "      \"functionName\": \"Image.constant\"\n",
      "    }\n",
      "  }, \n",
      "  \"functionName\": \"Image.addBands\"\n",
      "})\n",
      "{u'bands': [{u'crs': u'EPSG:4326',\n",
      "             u'crs_transform': [1.0, 0.0, 0.0, 0.0, 1.0, 0.0],\n",
      "             u'data_type': {u'max': 1,\n",
      "                            u'min': 1,\n",
      "                            u'precision': u'int',\n",
      "                            u'type': u'PixelType'},\n",
      "             u'id': u'constant'},\n",
      "            {u'crs': u'EPSG:4326',\n",
      "             u'crs_transform': [1.0, 0.0, 0.0, 0.0, 1.0, 0.0],\n",
      "             u'data_type': {u'max': 2,\n",
      "                            u'min': 2,\n",
      "                            u'precision': u'int',\n",
      "                            u'type': u'PixelType'},\n",
      "             u'id': u'constant_1'},\n",
      "            {u'crs': u'EPSG:4326',\n",
      "             u'crs_transform': [1.0, 0.0, 0.0, 0.0, 1.0, 0.0],\n",
      "             u'data_type': {u'max': 3,\n",
      "                            u'min': 3,\n",
      "                            u'precision': u'int',\n",
      "                            u'type': u'PixelType'},\n",
      "             u'id': u'constant_2'}],\n",
      " u'type': u'Image'}\n"
     ]
    }
   ],
   "source": [
    "# Creat a multi-band image from a list of constants\n",
    "multiband = ee.Image([1, 2, 3])\n",
    "print(multiband)\n",
    "pprint.pprint(multiband.getInfo())"
   ]
  },
  {
   "cell_type": "code",
   "execution_count": 8,
   "metadata": {
    "collapsed": false,
    "deletable": true,
    "editable": true
   },
   "outputs": [
    {
     "name": "stdout",
     "output_type": "stream",
     "text": [
      "ee.Image({\n",
      "  \"type\": \"Invocation\", \n",
      "  \"arguments\": {\n",
      "    \"bandSelectors\": [\n",
      "      \"constant\", \n",
      "      \"constant_1\", \n",
      "      \"constant_2\"\n",
      "    ], \n",
      "    \"input\": {\n",
      "      \"type\": \"Invocation\", \n",
      "      \"arguments\": {\n",
      "        \"dstImg\": {\n",
      "          \"type\": \"Invocation\", \n",
      "          \"arguments\": {\n",
      "            \"dstImg\": {\n",
      "              \"type\": \"Invocation\", \n",
      "              \"arguments\": {\n",
      "                \"value\": 1\n",
      "              }, \n",
      "              \"functionName\": \"Image.constant\"\n",
      "            }, \n",
      "            \"srcImg\": {\n",
      "              \"type\": \"Invocation\", \n",
      "              \"arguments\": {\n",
      "                \"value\": 2\n",
      "              }, \n",
      "              \"functionName\": \"Image.constant\"\n",
      "            }\n",
      "          }, \n",
      "          \"functionName\": \"Image.addBands\"\n",
      "        }, \n",
      "        \"srcImg\": {\n",
      "          \"type\": \"Invocation\", \n",
      "          \"arguments\": {\n",
      "            \"value\": 3\n",
      "          }, \n",
      "          \"functionName\": \"Image.constant\"\n",
      "        }\n",
      "      }, \n",
      "      \"functionName\": \"Image.addBands\"\n",
      "    }, \n",
      "    \"newNames\": [\n",
      "      \"band1\", \n",
      "      \"band2\", \n",
      "      \"band3\"\n",
      "    ]\n",
      "  }, \n",
      "  \"functionName\": \"Image.select\"\n",
      "})\n",
      "{u'bands': [{u'crs': u'EPSG:4326',\n",
      "             u'crs_transform': [1.0, 0.0, 0.0, 0.0, 1.0, 0.0],\n",
      "             u'data_type': {u'max': 1,\n",
      "                            u'min': 1,\n",
      "                            u'precision': u'int',\n",
      "                            u'type': u'PixelType'},\n",
      "             u'id': u'band1'},\n",
      "            {u'crs': u'EPSG:4326',\n",
      "             u'crs_transform': [1.0, 0.0, 0.0, 0.0, 1.0, 0.0],\n",
      "             u'data_type': {u'max': 2,\n",
      "                            u'min': 2,\n",
      "                            u'precision': u'int',\n",
      "                            u'type': u'PixelType'},\n",
      "             u'id': u'band2'},\n",
      "            {u'crs': u'EPSG:4326',\n",
      "             u'crs_transform': [1.0, 0.0, 0.0, 0.0, 1.0, 0.0],\n",
      "             u'data_type': {u'max': 3,\n",
      "                            u'min': 3,\n",
      "                            u'precision': u'int',\n",
      "                            u'type': u'PixelType'},\n",
      "             u'id': u'band3'}],\n",
      " u'type': u'Image'}\n"
     ]
    }
   ],
   "source": [
    "# Select and rename bands\n",
    "renamed = multiband.select(\n",
    "['constant', 'constant_1', 'constant_2'],\n",
    "['band1', 'band2', 'band3'])\n",
    "print(renamed)\n",
    "pprint.pprint(renamed.getInfo())"
   ]
  },
  {
   "cell_type": "code",
   "execution_count": 10,
   "metadata": {
    "collapsed": false,
    "deletable": true,
    "editable": true
   },
   "outputs": [
    {
     "name": "stdout",
     "output_type": "stream",
     "text": [
      "ee.Image({\n",
      "  \"type\": \"Invocation\", \n",
      "  \"arguments\": {\n",
      "    \"dstImg\": {\n",
      "      \"type\": \"Invocation\", \n",
      "      \"arguments\": {\n",
      "        \"dstImg\": {\n",
      "          \"type\": \"Invocation\", \n",
      "          \"arguments\": {\n",
      "            \"value\": 1\n",
      "          }, \n",
      "          \"functionName\": \"Image.constant\"\n",
      "        }, \n",
      "        \"srcImg\": {\n",
      "          \"type\": \"Invocation\", \n",
      "          \"arguments\": {\n",
      "            \"value\": 2\n",
      "          }, \n",
      "          \"functionName\": \"Image.constant\"\n",
      "        }\n",
      "      }, \n",
      "      \"functionName\": \"Image.addBands\"\n",
      "    }, \n",
      "    \"srcImg\": {\n",
      "      \"type\": \"Invocation\", \n",
      "      \"arguments\": {\n",
      "        \"value\": 42\n",
      "      }, \n",
      "      \"functionName\": \"Image.constant\"\n",
      "    }\n",
      "  }, \n",
      "  \"functionName\": \"Image.addBands\"\n",
      "})\n",
      "###########################\n",
      "ee.Image({\n",
      "  \"type\": \"Invocation\", \n",
      "  \"arguments\": {\n",
      "    \"dstImg\": {\n",
      "      \"type\": \"Invocation\", \n",
      "      \"arguments\": {\n",
      "        \"dstImg\": {\n",
      "          \"type\": \"Invocation\", \n",
      "          \"arguments\": {\n",
      "            \"value\": 1\n",
      "          }, \n",
      "          \"functionName\": \"Image.constant\"\n",
      "        }, \n",
      "        \"srcImg\": {\n",
      "          \"type\": \"Invocation\", \n",
      "          \"arguments\": {\n",
      "            \"value\": 2\n",
      "          }, \n",
      "          \"functionName\": \"Image.constant\"\n",
      "        }\n",
      "      }, \n",
      "      \"functionName\": \"Image.addBands\"\n",
      "    }, \n",
      "    \"srcImg\": {\n",
      "      \"type\": \"Invocation\", \n",
      "      \"arguments\": {\n",
      "        \"value\": 42\n",
      "      }, \n",
      "      \"functionName\": \"Image.constant\"\n",
      "    }\n",
      "  }, \n",
      "  \"functionName\": \"Image.addBands\"\n",
      "})\n",
      "{u'bands': [{u'crs': u'EPSG:4326',\n",
      "             u'crs_transform': [1.0, 0.0, 0.0, 0.0, 1.0, 0.0],\n",
      "             u'data_type': {u'max': 1,\n",
      "                            u'min': 1,\n",
      "                            u'precision': u'int',\n",
      "                            u'type': u'PixelType'},\n",
      "             u'id': u'constant'},\n",
      "            {u'crs': u'EPSG:4326',\n",
      "             u'crs_transform': [1.0, 0.0, 0.0, 0.0, 1.0, 0.0],\n",
      "             u'data_type': {u'max': 2,\n",
      "                            u'min': 2,\n",
      "                            u'precision': u'int',\n",
      "                            u'type': u'PixelType'},\n",
      "             u'id': u'constant_1'},\n",
      "            {u'crs': u'EPSG:4326',\n",
      "             u'crs_transform': [1.0, 0.0, 0.0, 0.0, 1.0, 0.0],\n",
      "             u'data_type': {u'max': 42,\n",
      "                            u'min': 42,\n",
      "                            u'precision': u'int',\n",
      "                            u'type': u'PixelType'},\n",
      "             u'id': u'constant_2'}],\n",
      " u'type': u'Image'}\n",
      "{u'bands': [{u'crs': u'EPSG:4326',\n",
      "             u'crs_transform': [1.0, 0.0, 0.0, 0.0, 1.0, 0.0],\n",
      "             u'data_type': {u'max': 1,\n",
      "                            u'min': 1,\n",
      "                            u'precision': u'int',\n",
      "                            u'type': u'PixelType'},\n",
      "             u'id': u'constant'},\n",
      "            {u'crs': u'EPSG:4326',\n",
      "             u'crs_transform': [1.0, 0.0, 0.0, 0.0, 1.0, 0.0],\n",
      "             u'data_type': {u'max': 2,\n",
      "                            u'min': 2,\n",
      "                            u'precision': u'int',\n",
      "                            u'type': u'PixelType'},\n",
      "             u'id': u'constant_1'},\n",
      "            {u'crs': u'EPSG:4326',\n",
      "             u'crs_transform': [1.0, 0.0, 0.0, 0.0, 1.0, 0.0],\n",
      "             u'data_type': {u'max': 42,\n",
      "                            u'min': 42,\n",
      "                            u'precision': u'int',\n",
      "                            u'type': u'PixelType'},\n",
      "             u'id': u'constant_2'}],\n",
      " u'type': u'Image'}\n"
     ]
    }
   ],
   "source": [
    "# Add bands to an image\n",
    "image4 = image3.addBands(ee.Image(42))\n",
    "print(image4)\n",
    "print(\"###########################\")\n",
    "# similar with ee.Image.cat, which is a static method.\n",
    "image5 = ee.Image.cat([image3, ee.Image(42)])\n",
    "print(image5)\n",
    "\n",
    "pprint.pprint(image5.getInfo())\n",
    "pprint.pprint(image4.getInfo())"
   ]
  }
 ],
 "metadata": {
  "kernelspec": {
   "display_name": "Python 2",
   "language": "python",
   "name": "python2"
  },
  "language_info": {
   "codemirror_mode": {
    "name": "ipython",
    "version": 2
   },
   "file_extension": ".py",
   "mimetype": "text/x-python",
   "name": "python",
   "nbconvert_exporter": "python",
   "pygments_lexer": "ipython2",
   "version": "2.7.11"
  }
 },
 "nbformat": 4,
 "nbformat_minor": 2
}
