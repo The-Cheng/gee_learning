{
 "cells": [
  {
   "cell_type": "markdown",
   "metadata": {
    "deletable": true,
    "editable": true
   },
   "source": [
    "# Image Overview\n",
    "Image object composed of one or more bands and each bands has its own name, data type, scale, mask and projection.Each image has metadata stored as a set of properties\n",
    "You can create a Image object from constants, lists or other suitable earth engine objects."
   ]
  },
  {
   "cell_type": "code",
   "execution_count": null,
   "metadata": {
    "collapsed": false,
    "deletable": true,
    "editable": true
   },
   "outputs": [],
   "source": [
    "# Initialize google earth engine\n",
    "import ee\n",
    "try:\n",
    "    ee.Initialize()\n",
    "    print(\"Google earth engine initialize successful\")\n",
    "except ee.EEException:\n",
    "    raise RuntimeError(\"Google earth engine initialize failed\")"
   ]
  },
  {
   "cell_type": "code",
   "execution_count": 3,
   "metadata": {
    "collapsed": false,
    "deletable": true,
    "editable": true
   },
   "outputs": [
    {
     "name": "stdout",
     "output_type": "stream",
     "text": [
      "ee.Image({\n",
      "  \"type\": \"Invocation\", \n",
      "  \"arguments\": {\n",
      "    \"value\": 1\n",
      "  }, \n",
      "  \"functionName\": \"Image.constant\"\n",
      "})\n"
     ]
    }
   ],
   "source": [
    "# create a image by constant\n",
    "image1 = ee.Image(1)\n",
    "print(image1)"
   ]
  },
  {
   "cell_type": "code",
   "execution_count": 3,
   "metadata": {
    "collapsed": false,
    "deletable": true,
    "editable": true
   },
   "outputs": [
    {
     "name": "stdout",
     "output_type": "stream",
     "text": [
      "ee.Image({\n",
      "  \"type\": \"Invocation\", \n",
      "  \"arguments\": {\n",
      "    \"dstImg\": {\n",
      "      \"type\": \"Invocation\", \n",
      "      \"arguments\": {\n",
      "        \"value\": 1\n",
      "      }, \n",
      "      \"functionName\": \"Image.constant\"\n",
      "    }, \n",
      "    \"srcImg\": {\n",
      "      \"type\": \"Invocation\", \n",
      "      \"arguments\": {\n",
      "        \"value\": 2\n",
      "      }, \n",
      "      \"functionName\": \"Image.constant\"\n",
      "    }\n",
      "  }, \n",
      "  \"functionName\": \"Image.addBands\"\n",
      "})\n"
     ]
    }
   ],
   "source": [
    "# Concatenate two images into one multi-band image.\n",
    "image2 = ee.Image(2)\n",
    "image3 = ee.Image.cat([image1, image2])\n",
    "print(image3)"
   ]
  },
  {
   "cell_type": "code",
   "execution_count": 8,
   "metadata": {
    "collapsed": false,
    "deletable": true,
    "editable": true
   },
   "outputs": [
    {
     "name": "stdout",
     "output_type": "stream",
     "text": [
      "ee.Image({\n",
      "  \"type\": \"Invocation\", \n",
      "  \"arguments\": {\n",
      "    \"dstImg\": {\n",
      "      \"type\": \"Invocation\", \n",
      "      \"arguments\": {\n",
      "        \"dstImg\": {\n",
      "          \"type\": \"Invocation\", \n",
      "          \"arguments\": {\n",
      "            \"value\": 1\n",
      "          }, \n",
      "          \"functionName\": \"Image.constant\"\n",
      "        }, \n",
      "        \"srcImg\": {\n",
      "          \"type\": \"Invocation\", \n",
      "          \"arguments\": {\n",
      "            \"value\": 2\n",
      "          }, \n",
      "          \"functionName\": \"Image.constant\"\n",
      "        }\n",
      "      }, \n",
      "      \"functionName\": \"Image.addBands\"\n",
      "    }, \n",
      "    \"srcImg\": {\n",
      "      \"type\": \"Invocation\", \n",
      "      \"arguments\": {\n",
      "        \"value\": 3\n",
      "      }, \n",
      "      \"functionName\": \"Image.constant\"\n",
      "    }\n",
      "  }, \n",
      "  \"functionName\": \"Image.addBands\"\n",
      "})\n"
     ]
    }
   ],
   "source": [
    "# Creat a multi-band image from a list of constants\n",
    "multiband = ee.Image([1, 2, 3])\n",
    "print(multiband)"
   ]
  },
  {
   "cell_type": "code",
   "execution_count": 10,
   "metadata": {
    "collapsed": false,
    "deletable": true,
    "editable": true
   },
   "outputs": [
    {
     "name": "stdout",
     "output_type": "stream",
     "text": [
      "ee.Image({\n",
      "  \"type\": \"Invocation\", \n",
      "  \"arguments\": {\n",
      "    \"bandSelectors\": [\n",
      "      \"constant\", \n",
      "      \"constant_1\", \n",
      "      \"constant_2\"\n",
      "    ], \n",
      "    \"input\": {\n",
      "      \"type\": \"Invocation\", \n",
      "      \"arguments\": {\n",
      "        \"dstImg\": {\n",
      "          \"type\": \"Invocation\", \n",
      "          \"arguments\": {\n",
      "            \"dstImg\": {\n",
      "              \"type\": \"Invocation\", \n",
      "              \"arguments\": {\n",
      "                \"value\": 1\n",
      "              }, \n",
      "              \"functionName\": \"Image.constant\"\n",
      "            }, \n",
      "            \"srcImg\": {\n",
      "              \"type\": \"Invocation\", \n",
      "              \"arguments\": {\n",
      "                \"value\": 2\n",
      "              }, \n",
      "              \"functionName\": \"Image.constant\"\n",
      "            }\n",
      "          }, \n",
      "          \"functionName\": \"Image.addBands\"\n",
      "        }, \n",
      "        \"srcImg\": {\n",
      "          \"type\": \"Invocation\", \n",
      "          \"arguments\": {\n",
      "            \"value\": 3\n",
      "          }, \n",
      "          \"functionName\": \"Image.constant\"\n",
      "        }\n",
      "      }, \n",
      "      \"functionName\": \"Image.addBands\"\n",
      "    }, \n",
      "    \"newNames\": [\n",
      "      \"band1\", \n",
      "      \"band2\", \n",
      "      \"band3\"\n",
      "    ]\n",
      "  }, \n",
      "  \"functionName\": \"Image.select\"\n",
      "})\n"
     ]
    }
   ],
   "source": [
    "# Select and rename bands\n",
    "renamed = multiband.select(\n",
    "['constant', 'constant_1', 'constant_2'],\n",
    "['band1', 'band2', 'band3'])\n",
    "print(renamed)"
   ]
  },
  {
   "cell_type": "code",
   "execution_count": 13,
   "metadata": {
    "collapsed": false,
    "deletable": true,
    "editable": true
   },
   "outputs": [
    {
     "name": "stdout",
     "output_type": "stream",
     "text": [
      "ee.Image({\n",
      "  \"type\": \"Invocation\", \n",
      "  \"arguments\": {\n",
      "    \"dstImg\": {\n",
      "      \"type\": \"Invocation\", \n",
      "      \"arguments\": {\n",
      "        \"value\": 3\n",
      "      }, \n",
      "      \"functionName\": \"Image.constant\"\n",
      "    }, \n",
      "    \"srcImg\": {\n",
      "      \"type\": \"Invocation\", \n",
      "      \"arguments\": {\n",
      "        \"value\": 42\n",
      "      }, \n",
      "      \"functionName\": \"Image.constant\"\n",
      "    }\n",
      "  }, \n",
      "  \"functionName\": \"Image.addBands\"\n",
      "})\n",
      "###########################\n",
      "ee.Image({\n",
      "  \"type\": \"Invocation\", \n",
      "  \"arguments\": {\n",
      "    \"dstImg\": {\n",
      "      \"type\": \"Invocation\", \n",
      "      \"arguments\": {\n",
      "        \"value\": 3\n",
      "      }, \n",
      "      \"functionName\": \"Image.constant\"\n",
      "    }, \n",
      "    \"srcImg\": {\n",
      "      \"type\": \"Invocation\", \n",
      "      \"arguments\": {\n",
      "        \"value\": 42\n",
      "      }, \n",
      "      \"functionName\": \"Image.constant\"\n",
      "    }\n",
      "  }, \n",
      "  \"functionName\": \"Image.addBands\"\n",
      "})\n"
     ]
    }
   ],
   "source": [
    "# Add bands to an image\n",
    "image4 = image3.addBands(ee.Image(42))\n",
    "print(image4)\n",
    "print(\"###########################\")\n",
    "image5 = ee.Image.cat([image3, ee.Image(42)])\n",
    "print(image5)\n",
    "# similar with ee.Image.cat, which is a static method."
   ]
  }
 ],
 "metadata": {
  "kernelspec": {
   "display_name": "Python 2",
   "language": "python",
   "name": "python2"
  },
  "language_info": {
   "codemirror_mode": {
    "name": "ipython",
    "version": 2
   },
   "file_extension": ".py",
   "mimetype": "text/x-python",
   "name": "python",
   "nbconvert_exporter": "python",
   "pygments_lexer": "ipython2",
   "version": "2.7.11"
  }
 },
 "nbformat": 4,
 "nbformat_minor": 2
}
