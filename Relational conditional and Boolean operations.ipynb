{
 "cells": [
  {
   "cell_type": "markdown",
   "metadata": {
    "deletable": true,
    "editable": true
   },
   "source": [
    "# Relational, conditional and Boolean operations"
   ]
  },
  {
   "cell_type": "code",
   "execution_count": 1,
   "metadata": {
    "collapsed": true
   },
   "outputs": [],
   "source": [
    "import ee\n",
    "from ee import mapclient\n",
    "\n",
    "ee.Initialize()"
   ]
  },
  {
   "cell_type": "markdown",
   "metadata": {},
   "source": [
    "## Extract urban area\n",
    "The output of relational, conditional and boolean operators is a binary image."
   ]
  },
  {
   "cell_type": "code",
   "execution_count": null,
   "metadata": {
    "collapsed": true,
    "deletable": true,
    "editable": true
   },
   "outputs": [],
   "source": [
    "# Load a Landsat 8 image\n",
    "image = ee.Image('LANDSAT/LC08/C01/T1_TOA/LC08_044034_20140318')\n",
    "\n",
    "# Create NDVI and NDWI spectral indices\n",
    "ndvi = image.normalizedDifference(['B5', 'B4'])\n",
    "ndwi = image.normalizedDifference(['B3', 'B5'])\n",
    "\n",
    "# Create a binary layer using logical operations\n",
    "# using ee.Image.bitwise_and to calculate AND operation\n",
    "bare = ndvi.lt(0.2).bitwise_and(ndwi.lt(0))\n",
    "\n",
    "# Another way\n",
    "image = ee.Image.cat([ndvi, ndwi])\n",
    "print(image.bandNames().getInfo())\n",
    "bare2 = image.expression(\"(b('nd') < 0.2) && (b('nd_1') < 0)\")\n",
    "\n",
    "#mapclient.centerMap(-122.3578, 37.7726, 12)\n",
    "#mapclient.addToMap(bare2.updateMask(bare2), {}, 'bare2')"
   ]
  },
  {
   "cell_type": "markdown",
   "metadata": {},
   "source": [
    "## Operate boolean values\n",
    "\n",
    "The boolean images returned by relational or boolean operators can be used with mathmatical operator. "
   ]
  },
  {
   "cell_type": "code",
   "execution_count": null,
   "metadata": {
    "collapsed": true
   },
   "outputs": [],
   "source": [
    "# Load a 2012 nightlights image\n",
    "nl2012 = ee.Image('NOAA/DMSP-OLS/NIGHTTIME_LIGHTS/F182012')\n",
    "lights = nl2012.select('stable_lights')\n",
    "\n",
    "# Define arbitrary thresholds on the 6-bit stable lights band\n",
    "zones = lights.gt(30).add(lights.gt(55)).add(lights.gt(62))\n",
    "\n",
    "# Display the threshold image as three district zone near Paris\n",
    "palette = ['000000', '0000FF', '00FF00', 'FF0000']\n",
    "\n",
    "# Create zones using an expression\n",
    "zonesExp = nl2012.expression(\"(b('stable_lights')>62) ? 3\" +\\\n",
    "                             \": (b('stable_lights')>55) ? 2\" +\\\n",
    "                             \": (b('stable_lights')>30) ? 1\" +\\\n",
    "                             \": 0\")\n",
    "\n",
    "#mapclient.centerMap(2.373, 48.8683, 8)\n",
    "#mapclient.addToMap(zonesExp, {'min': 0, 'max': 3, 'palette': palette}, 'development zones')\n"
   ]
  },
  {
   "cell_type": "markdown",
   "metadata": {},
   "source": [
    "## Conditional replacement of values\n",
    "Another useful conditional operator is `ee.Image.where`. It can perform conditional replacement for an image"
   ]
  },
  {
   "cell_type": "code",
   "execution_count": null,
   "metadata": {
    "collapsed": true
   },
   "outputs": [],
   "source": [
    "# Load a cloudy Landsat 8 image\n",
    "image = ee.Image('LANDSAT/LC08/C01/T1_TOA/LC08_044034_20130603')\n",
    "\n",
    "# Load another image to relace the cloudy pixels\n",
    "replacement = ee.Image('LANDSAT/LC08/C01/T1_TOA/LC08_044034_20130416')\n",
    "\n",
    "# Compute a cloud score band\n",
    "cloud = ee.Algorithms.Landsat.simpleCloudScore(image).select('cloud')\n",
    "\n",
    "# Set cloudy pixels to the other image\n",
    "replaced = image.where(cloud.gt(10), replacement)\n",
    "\n",
    "mapclient.centerMap(-122.151, 37.451, 9)\n",
    "mapclient.addToMap(replaced,\n",
    "                   {'bands': ['B5', 'B4', 'B3'],\n",
    "                              'min': 0,\n",
    "                              'max': 0.5},\n",
    "                   'clouds replaced')"
   ]
  }
 ],
 "metadata": {
  "kernelspec": {
   "display_name": "Python 2",
   "language": "python",
   "name": "python2"
  },
  "language_info": {
   "codemirror_mode": {
    "name": "ipython",
    "version": 2
   },
   "file_extension": ".py",
   "mimetype": "text/x-python",
   "name": "python",
   "nbconvert_exporter": "python",
   "pygments_lexer": "ipython2",
   "version": "2.7.11"
  }
 },
 "nbformat": 4,
 "nbformat_minor": 2
}
